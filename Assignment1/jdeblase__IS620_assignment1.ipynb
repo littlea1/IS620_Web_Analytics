{
 "cells": [
  {
   "cell_type": "code",
   "execution_count": 2,
   "metadata": {
    "collapsed": false
   },
   "outputs": [],
   "source": [
    "import graphlab as gl\n",
    "gl.canvas.set_target('ipynb')\n",
    "\n",
    "## Construct a Krackhard kite from scratch using graphlab"
   ]
  },
  {
   "cell_type": "code",
   "execution_count": 11,
   "metadata": {
    "collapsed": false
   },
   "outputs": [],
   "source": [
    "edges = [\n",
    "    gl.Edge(0,1),\n",
    "    gl.Edge(0,3),\n",
    "    gl.Edge(0,5),\n",
    "    gl.Edge(0,2),\n",
    "    gl.Edge(1,3),\n",
    "    gl.Edge(1,4),\n",
    "    gl.Edge(1,6),\n",
    "    gl.Edge(2,3),\n",
    "    gl.Edge(3,4),\n",
    "    gl.Edge(2,3),\n",
    "    gl.Edge(2,5),\n",
    "    gl.Edge(3,5),\n",
    "    gl.Edge(3,6),\n",
    "    gl.Edge(4,6),\n",
    "    gl.Edge(5,6),\n",
    "    gl.Edge(5,7),\n",
    "    gl.Edge(6,7),\n",
    "    gl.Edge(7,8),\n",
    "    gl.Edge(8,9)\n",
    "]\n",
    "names = [\"a\", \"b\", \"c\", \"d\", \"e\", \"f\", \"g\",\"h\", \"i\",\"j\"]\n",
    "vertices = [gl.Vertex(i,{'name':names[i]}) for i in range(10)]\n"
   ]
  },
  {
   "cell_type": "code",
   "execution_count": 17,
   "metadata": {
    "collapsed": false
   },
   "outputs": [],
   "source": [
    "kite = gl.Graph().add_vertices(vertices).add_edges(edges)"
   ]
  },
  {
   "cell_type": "code",
   "execution_count": 28,
   "metadata": {
    "collapsed": false,
    "scrolled": false
   },
   "outputs": [
    {
     "data": {
      "application/javascript": [
       "$(\"head\").append($(\"<link/>\").attr({\n",
       "  rel:  \"stylesheet\",\n",
       "  type: \"text/css\",\n",
       "  href: \"//cdnjs.cloudflare.com/ajax/libs/font-awesome/4.1.0/css/font-awesome.min.css\"\n",
       "}));\n",
       "$(\"head\").append($(\"<link/>\").attr({\n",
       "  rel:  \"stylesheet\",\n",
       "  type: \"text/css\",\n",
       "  href: \"https://static.turi.com/products/graphlab-create/2.1/canvas/css/canvas.css\"\n",
       "}));\n",
       "\n",
       "            (function(){\n",
       "\n",
       "                var e = null;\n",
       "                if (typeof element == 'undefined') {\n",
       "                    var scripts = document.getElementsByTagName('script');\n",
       "                    var thisScriptTag = scripts[scripts.length-1];\n",
       "                    var parentDiv = thisScriptTag.parentNode;\n",
       "                    e = document.createElement('div');\n",
       "                    parentDiv.appendChild(e);\n",
       "                } else {\n",
       "                    e = element[0];\n",
       "                }\n",
       "\n",
       "                if (typeof requirejs !== 'undefined') {\n",
       "                    // disable load timeout; ipython_app.js is large and can take a while to load.\n",
       "                    requirejs.config({waitSeconds: 0});\n",
       "                }\n",
       "\n",
       "                require(['https://static.turi.com/products/graphlab-create/2.1/canvas/js/ipython_app.js'], function(IPythonApp){\n",
       "                    var app = new IPythonApp();\n",
       "                    app.attachView('sgraph','View', {\"edges_labels\": null, \"selected_variable\": {\"name\": [\"kite\"], \"view_file\": \"sgraph\", \"view_component\": \"View\", \"view_params\": {\"elabel_hover\": false, \"vertex_positions\": [0, 9], \"h_offset\": 0.0, \"node_size\": 300, \"ecolor\": [0.37, 0.33, 0.33], \"elabel\": null, \"arrows\": false, \"ewidth\": 1, \"vlabel\": \"name\", \"highlight_color\": [0.69, 0.0, 0.498], \"vcolor\": [0.522, 0.741, 0.0], \"vlabel_hover\": false, \"highlight\": {}, \"v_offset\": 0.03}, \"view_components\": [\"View\"], \"type\": \"SGraph\", \"descriptives_links\": {\"edges\": \"edges\", \"vertices\": \"vertices\"}, \"descriptives\": {\"edges\": 19, \"vertices\": 10}}, \"positions\": {\"y\": [\"__id\", \"name\"], \"x\": [\"__id\", \"name\"], \"names\": [0, 9]}, \"error_type\": 0, \"vertices\": [7, 8, 5, 0, 2, 9, 6, 3, 1, 4], \"vertices_labels\": [\"h\", \"i\", \"f\", \"a\", \"c\", \"j\", \"g\", \"d\", \"b\", \"e\"], \"edges\": [[5, 7], [7, 8], [5, 6], [8, 9], [0, 5], [0, 2], [0, 3], [0, 1], [2, 5], [2, 3], [2, 3], [6, 7], [3, 5], [3, 6], [3, 4], [1, 6], [1, 3], [1, 4], [4, 6]], \"ipython\": true, \"error_msg\": \"\"}, e);\n",
       "                });\n",
       "            })();\n",
       "        "
      ]
     },
     "metadata": {},
     "output_type": "display_data"
    }
   ],
   "source": [
    "kite.show(vlabel=\"name\", vertex_positions=(0,9))"
   ]
  },
  {
   "cell_type": "code",
   "execution_count": null,
   "metadata": {
    "collapsed": false
   },
   "outputs": [],
   "source": []
  },
  {
   "cell_type": "code",
   "execution_count": null,
   "metadata": {
    "collapsed": true
   },
   "outputs": [],
   "source": []
  }
 ],
 "metadata": {
  "kernelspec": {
   "display_name": "Python [graph_lab_env]",
   "language": "python",
   "name": "Python [graph_lab_env]"
  },
  "language_info": {
   "codemirror_mode": {
    "name": "ipython",
    "version": 2
   },
   "file_extension": ".py",
   "mimetype": "text/x-python",
   "name": "python",
   "nbconvert_exporter": "python",
   "pygments_lexer": "ipython2",
   "version": "2.7.12"
  }
 },
 "nbformat": 4,
 "nbformat_minor": 0
}
