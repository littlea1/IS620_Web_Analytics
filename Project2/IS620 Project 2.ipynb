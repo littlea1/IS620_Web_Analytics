{
 "cells": [
  {
   "cell_type": "markdown",
   "metadata": {},
   "source": [
    "## Project 2 - 2-mode Network Analysis\n"
   ]
  },
  {
   "cell_type": "markdown",
   "metadata": {},
   "source": [
    "An analysis of affiliations between actors and movies in the 2-mode Notre Dame Actor dataset. The main goal of this project is to use clustering techniques such as the island method to try to find small sub-networks of important actors that are frequently collaborating together. In doing so we can also see which movies stand out as focal points for these types of collaborations. \n",
    "\n",
    "### Dataset Specs\n",
    "NDactors.net \n",
    "http://vlado.fmf.uni-lj.si/pub/networks/data/ND/NDnets.htm\n",
    "\n",
    "This is an undirected two-mode network with 520223 vertices (392400 players, 127823 movies) and 1470418 edges; player X plays in movie Y.\n",
    "\n"
   ]
  },
  {
   "cell_type": "code",
   "execution_count": 1,
   "metadata": {
    "collapsed": false
   },
   "outputs": [],
   "source": [
    "#import graphlab as gl\n",
    "import networkx as nx\n",
    "import matplotlib.pyplot as plt\n",
    "import pandas as pd"
   ]
  },
  {
   "cell_type": "markdown",
   "metadata": {},
   "source": [
    "## Data Import\n",
    "\n",
    "The original dataset was in Pajek format, a wide space seperated table. Some data cleaning was performed on the dataset in R prior to this in order to make sure the table formatting was appropriate. \n",
    "\n",
    "Networkx has difficulty handling such a large amount of edge data when it performs projections and transformations, so a sample of 150,000 rows is taken from the main edgelist dataset after import. \n"
   ]
  },
  {
   "cell_type": "code",
   "execution_count": 2,
   "metadata": {
    "collapsed": true
   },
   "outputs": [],
   "source": [
    "# intitial import and sample\n",
    "edge_list = pd.read_csv(\"NDactors_edgelist_melt.csv\",sep=\",\",dtype='string')\n",
    "edge_list_samp = edge_list.sample(150000,random_state=12345)"
   ]
  },
  {
   "cell_type": "code",
   "execution_count": 3,
   "metadata": {
    "collapsed": false
   },
   "outputs": [],
   "source": [
    "actor_nodes = pd.DataFrame(edge_list_samp.actor.unique(),columns=['actor'])\n",
    "actor_nodes['node_type'] = 'actor'\n",
    "\n",
    "movie_nodes = pd.DataFrame(edge_list_samp.movie.unique(), columns=['movie'])\n",
    "movie_nodes['node_type'] = 'movie'\n"
   ]
  },
  {
   "cell_type": "code",
   "execution_count": 4,
   "metadata": {
    "collapsed": false
   },
   "outputs": [],
   "source": [
    "# Build main graph from both node sets and edges as ebunch\n",
    "# set bipartite attribute to ensure weighted projection will work\n",
    "a_nodes = list(actor_nodes['actor'])\n",
    "m_nodes = list(movie_nodes['movie'])\n",
    "e_bunch = [tuple(i) for i in edge_list_samp.values]\n",
    "\n",
    "g = nx.Graph()\n",
    "g.add_nodes_from(a_nodes,node_type='actor', bipartite=0)\n",
    "g.add_nodes_from(m_nodes,node_type='movie', bipartite=1)\n",
    "g.add_edges_from(e_bunch)\n"
   ]
  },
  {
   "cell_type": "code",
   "execution_count": 6,
   "metadata": {
    "collapsed": false
   },
   "outputs": [
    {
     "data": {
      "text/plain": [
       "178996"
      ]
     },
     "execution_count": 6,
     "metadata": {},
     "output_type": "execute_result"
    }
   ],
   "source": [
    "len(g.nodes())"
   ]
  },
  {
   "cell_type": "code",
   "execution_count": 7,
   "metadata": {
    "collapsed": false
   },
   "outputs": [
    {
     "data": {
      "text/plain": [
       "149959"
      ]
     },
     "execution_count": 7,
     "metadata": {},
     "output_type": "execute_result"
    }
   ],
   "source": [
    "len(g.edges())"
   ]
  },
  {
   "cell_type": "markdown",
   "metadata": {},
   "source": [
    "## Weighted Projections and Clustering\n",
    "\n",
    "The initial graph contains over 178,000 nodes. In order to continue with clustering, we first want to isolate the most important connected subgraph in our large graph. A threshold of 100 is used to find the largest connected subgraph.   \n"
   ]
  },
  {
   "cell_type": "code",
   "execution_count": 157,
   "metadata": {
    "collapsed": false
   },
   "outputs": [],
   "source": [
    "large_sgs = [i for i in nx.connected_component_subgraphs(g) if len(i) > 100]"
   ]
  },
  {
   "cell_type": "code",
   "execution_count": 158,
   "metadata": {
    "collapsed": false
   },
   "outputs": [
    {
     "data": {
      "text/plain": [
       "[74375]"
      ]
     },
     "execution_count": 158,
     "metadata": {},
     "output_type": "execute_result"
    }
   ],
   "source": [
    "[len(i) for i in large_sgs] # one large component"
   ]
  },
  {
   "cell_type": "code",
   "execution_count": 10,
   "metadata": {
    "collapsed": true
   },
   "outputs": [],
   "source": [
    "sg = large_sgs[0] # largest connected subgraph from sample at 74,375"
   ]
  },
  {
   "cell_type": "markdown",
   "metadata": {},
   "source": [
    "We now perform weighted_projections on this subgraph in order to isolate the two components."
   ]
  },
  {
   "cell_type": "code",
   "execution_count": 11,
   "metadata": {
    "collapsed": false
   },
   "outputs": [],
   "source": [
    "from networkx.algorithms import bipartite as bi\n",
    "\n",
    "movies,actors = bi.sets(sg)  # split into bipartite sets"
   ]
  },
  {
   "cell_type": "code",
   "execution_count": 12,
   "metadata": {
    "collapsed": false
   },
   "outputs": [],
   "source": [
    "## create weighted projections\n",
    "movie_proj_sg = bi.weighted_projected_graph(sg, movies) "
   ]
  },
  {
   "cell_type": "code",
   "execution_count": 13,
   "metadata": {
    "collapsed": true
   },
   "outputs": [],
   "source": [
    "actor_proj_sg = bi.weighted_projected_graph(sg, actors)"
   ]
  },
  {
   "cell_type": "code",
   "execution_count": null,
   "metadata": {
    "collapsed": false
   },
   "outputs": [],
   "source": []
  },
  {
   "cell_type": "code",
   "execution_count": 14,
   "metadata": {
    "collapsed": false
   },
   "outputs": [],
   "source": [
    "# island method -- probing for thresholds\n",
    "m = movie_proj_sg.edges(data=True) # split off edge data\n",
    "a = actor_proj_sg.edges(data=True)\n",
    "\n",
    "# looking at any weights in the projections that are greater than 1 and 2\n",
    "len([i for i in a if i[2]['weight'] > 1])"
   ]
  },
  {
   "cell_type": "code",
   "execution_count": 16,
   "metadata": {
    "collapsed": false
   },
   "outputs": [
    {
     "data": {
      "text/plain": [
       "247"
      ]
     },
     "execution_count": 16,
     "metadata": {},
     "output_type": "execute_result"
    }
   ],
   "source": [
    "len([i for i in m if i[2]['weight'] > 1])  "
   ]
  },
  {
   "cell_type": "code",
   "execution_count": 17,
   "metadata": {
    "collapsed": false
   },
   "outputs": [
    {
     "data": {
      "text/plain": [
       "1"
      ]
     },
     "execution_count": 17,
     "metadata": {},
     "output_type": "execute_result"
    }
   ],
   "source": [
    "len([i for i in a if i[2]['weight'] > 2])  "
   ]
  },
  {
   "cell_type": "code",
   "execution_count": 18,
   "metadata": {
    "collapsed": false
   },
   "outputs": [
    {
     "data": {
      "text/plain": [
       "6"
      ]
     },
     "execution_count": 18,
     "metadata": {},
     "output_type": "execute_result"
    }
   ],
   "source": [
    "len([i for i in m if i[2]['weight'] > 2])  "
   ]
  },
  {
   "cell_type": "code",
   "execution_count": null,
   "metadata": {
    "collapsed": false
   },
   "outputs": [],
   "source": []
  },
  {
   "cell_type": "markdown",
   "metadata": {},
   "source": [
    "Using a minimum threshold of edge weight 1, we find the nodes with the strongest relationships in both sub-graphs. We now isolate these with the list comprehension using a trim function similar to the one presented in Social Network Analysis Chapter 4. This function returns a a filtered sub-graph at the desired edge-weight threshold. \n",
    "\n",
    "Since there aren't a wide range of weights, a trim function that acts as a simple filter suffices. There is no need for stepwise iteration."
   ]
  },
  {
   "cell_type": "code",
   "execution_count": 85,
   "metadata": {
    "collapsed": false
   },
   "outputs": [],
   "source": [
    "def trim(g, weight):\n",
    "    gtemp = nx.Graph()\n",
    "    new_ebunch = [i for i in g.edges(data=True) if i[2]['weight'] > weight]    \n",
    "    gtemp.add_edges_from(new_ebunch)\n",
    "    return gtemp"
   ]
  },
  {
   "cell_type": "code",
   "execution_count": 20,
   "metadata": {
    "collapsed": false
   },
   "outputs": [],
   "source": [
    "act_sg_island =  trim(actor_proj_sg, 1)\n",
    "mov_sg_island = trim(movie_proj_sg,1)"
   ]
  },
  {
   "cell_type": "markdown",
   "metadata": {},
   "source": [
    "We now have two island clusters of the projected actors and movies. A quick look at the degree centrality might reveal which nodes are the key players."
   ]
  },
  {
   "cell_type": "code",
   "execution_count": 49,
   "metadata": {
    "collapsed": false
   },
   "outputs": [
    {
     "data": {
      "text/html": [
       "<div>\n",
       "<table border=\"1\" class=\"dataframe\">\n",
       "  <thead>\n",
       "    <tr style=\"text-align: right;\">\n",
       "      <th></th>\n",
       "      <th>0</th>\n",
       "    </tr>\n",
       "  </thead>\n",
       "  <tbody>\n",
       "    <tr>\n",
       "      <th>actor_60</th>\n",
       "      <td>0.016509</td>\n",
       "    </tr>\n",
       "    <tr>\n",
       "      <th>actor_15844</th>\n",
       "      <td>0.011792</td>\n",
       "    </tr>\n",
       "    <tr>\n",
       "      <th>actor_50328</th>\n",
       "      <td>0.009434</td>\n",
       "    </tr>\n",
       "    <tr>\n",
       "      <th>actor_9529</th>\n",
       "      <td>0.009434</td>\n",
       "    </tr>\n",
       "    <tr>\n",
       "      <th>actor_22255</th>\n",
       "      <td>0.009434</td>\n",
       "    </tr>\n",
       "  </tbody>\n",
       "</table>\n",
       "</div>"
      ],
      "text/plain": [
       "                    0\n",
       "actor_60     0.016509\n",
       "actor_15844  0.011792\n",
       "actor_50328  0.009434\n",
       "actor_9529   0.009434\n",
       "actor_22255  0.009434"
      ]
     },
     "execution_count": 49,
     "metadata": {},
     "output_type": "execute_result"
    }
   ],
   "source": [
    "## degree centrality measures for the two island clusters\n",
    "a_sg = nx.degree_centrality(act_sg_island)\n",
    "m_sg = nx.degree_centrality(mov_sg_island)\n",
    "\n",
    "pd.DataFrame.from_dict(a_sg,orient='index').sort_values(0,ascending=False).head()"
   ]
  },
  {
   "cell_type": "code",
   "execution_count": 50,
   "metadata": {
    "collapsed": false
   },
   "outputs": [
    {
     "data": {
      "text/html": [
       "<div>\n",
       "<table border=\"1\" class=\"dataframe\">\n",
       "  <thead>\n",
       "    <tr style=\"text-align: right;\">\n",
       "      <th></th>\n",
       "      <th>0</th>\n",
       "    </tr>\n",
       "  </thead>\n",
       "  <tbody>\n",
       "    <tr>\n",
       "      <th>movie_26395</th>\n",
       "      <td>0.016043</td>\n",
       "    </tr>\n",
       "    <tr>\n",
       "      <th>movie_825</th>\n",
       "      <td>0.016043</td>\n",
       "    </tr>\n",
       "    <tr>\n",
       "      <th>movie_3543</th>\n",
       "      <td>0.013369</td>\n",
       "    </tr>\n",
       "    <tr>\n",
       "      <th>movie_213939</th>\n",
       "      <td>0.013369</td>\n",
       "    </tr>\n",
       "    <tr>\n",
       "      <th>movie_274</th>\n",
       "      <td>0.013369</td>\n",
       "    </tr>\n",
       "  </tbody>\n",
       "</table>\n",
       "</div>"
      ],
      "text/plain": [
       "                     0\n",
       "movie_26395   0.016043\n",
       "movie_825     0.016043\n",
       "movie_3543    0.013369\n",
       "movie_213939  0.013369\n",
       "movie_274     0.013369"
      ]
     },
     "execution_count": 50,
     "metadata": {},
     "output_type": "execute_result"
    }
   ],
   "source": [
    "pd.DataFrame.from_dict(m_sg,orient='index').sort_values(0,ascending=False).head()"
   ]
  },
  {
   "cell_type": "markdown",
   "metadata": {},
   "source": [
    "## Most Connected Subgraphs of Weighted Projections\n",
    "\n",
    "Finally we filter the island clusters into their largest connected components. We can see that actor graph has 6 highly connected components with the largest being 20. The movie graph contains 11 highly connected components with the largest at 36. \n"
   ]
  },
  {
   "cell_type": "code",
   "execution_count": 37,
   "metadata": {
    "collapsed": false
   },
   "outputs": [],
   "source": [
    "## look at the connected components of new subgraphs\n",
    "# These give an idea of the actors who in terms of actors\n",
    "\n",
    "m_cc = [i for i in nx.connected_component_subgraphs(mov_sg_island) if len(i) > 4]\n",
    "a_cc = [i for i in nx.connected_component_subgraphs(act_sg_island) if len(i) > 4]\n"
   ]
  },
  {
   "cell_type": "code",
   "execution_count": 51,
   "metadata": {
    "collapsed": false
   },
   "outputs": [
    {
     "data": {
      "text/plain": [
       "[20, 8, 6, 6, 6, 5]"
      ]
     },
     "execution_count": 51,
     "metadata": {},
     "output_type": "execute_result"
    }
   ],
   "source": [
    "[len(i) for i in a_cc]  # 6 large actor components"
   ]
  },
  {
   "cell_type": "code",
   "execution_count": 52,
   "metadata": {
    "collapsed": false
   },
   "outputs": [
    {
     "data": {
      "text/plain": [
       "[5, 10, 5, 5, 6, 36, 16, 5, 7, 7, 5]"
      ]
     },
     "execution_count": 52,
     "metadata": {},
     "output_type": "execute_result"
    }
   ],
   "source": [
    "[len(i) for i in m_cc] # 11 large movie components"
   ]
  },
  {
   "cell_type": "code",
   "execution_count": 88,
   "metadata": {
    "collapsed": false
   },
   "outputs": [],
   "source": [
    "## combining these into two graphs and then one dataframe for neo\n",
    "def graph_combine(cc_graphs):\n",
    "    g = nx.Graph()\n",
    "    for h in cc_graphs:\n",
    "        g = nx.compose(g,h)\n",
    "    return g\n"
   ]
  },
  {
   "cell_type": "code",
   "execution_count": null,
   "metadata": {
    "collapsed": true
   },
   "outputs": [],
   "source": [
    "a_islands = graph_combine(a_cc)\n",
    "m_islands = graph_combine(m_cc)\n",
    "\n",
    "a_nodes = pd.DataFrame(a_islands.nodes(),columns=['actor_id']).to_csv(\"actor_nodes.csv\")\n",
    "m_nodes = pd.DataFrame(m_islands.nodes(),columns=['movie_id']).to_csv(\"movie_nodes.csv\")\n",
    "\n",
    "a_edge_list = pd.DataFrame(a_islands.edges(),columns=['src','trgt']).to_csv(\"actor_el.csv\")\n",
    "m_edge_list = pd.DataFrame(m_islands.edges(),columns=['src','trgt']).to_csv(\"movie_el.csv\")\n"
   ]
  },
  {
   "cell_type": "markdown",
   "metadata": {},
   "source": [
    "<img src=\"island_clusters.png\">"
   ]
  },
  {
   "cell_type": "markdown",
   "metadata": {},
   "source": [
    "This neo4j chart shows the largest sets of connected components from the island sub-graph. The actors in each of these clusters have the highest degree of collaboration amongst each other in the dataset. We can infer that the connected movies share the most actors and are most likely similar in some way, perhaps the same genre or movie studio. "
   ]
  },
  {
   "cell_type": "markdown",
   "metadata": {},
   "source": [
    "## Ego Graph \n",
    "\n",
    "Actor 60 played an important role in the above island cluster, being the focal point of the 20 node component in the center of the graph. The actor also had the highest degree centrality, and I thought it would be interesting to build an ego graph from the original two mode network in order to vizualize some of these relationships using a two degree radius. "
   ]
  },
  {
   "cell_type": "code",
   "execution_count": 150,
   "metadata": {
    "collapsed": false
   },
   "outputs": [],
   "source": [
    "# parse nodes and build datframes for ego graph\n",
    "a60_ego = nx.ego_graph(sg,'actor_60',radius=2)\n",
    "\n",
    "# parse nodes and build dataframes for output\n",
    "n = a60_ego.nodes(data=True)\n",
    "d = {}\n",
    "d['node_id']=[i[0] for i in n]\n",
    "d['node_type'] = [i[1]['node_type'] for i in n]\n",
    "\n",
    "ego_nodes = pd.DataFrame(d).to_csv(\"ego_nodes.csv\")\n",
    "ego_edges = pd.DataFrame(a60_ego.edges(),columns=['src','trgt']).to_csv(\"ego_el.csv\")\n"
   ]
  },
  {
   "cell_type": "markdown",
   "metadata": {
    "collapsed": true
   },
   "source": [
    "<img src=\"a60_ego.png\">"
   ]
  },
  {
   "cell_type": "markdown",
   "metadata": {
    "collapsed": true
   },
   "source": [
    "The red node in middle is Actor 60. In the lower right we have movie 26395 and to the left movie 3543, both of which had the highest centrality scores in their subgraphs. We can see Actor 60 is connected to 16 movies in blue. Several key actors are actually in multiple movies with Actor 60.\n",
    "\n",
    "One can see from this simple two degree ego graph, the influence that one actor can have on a much larger network. \n"
   ]
  },
  {
   "cell_type": "code",
   "execution_count": null,
   "metadata": {
    "collapsed": true
   },
   "outputs": [],
   "source": []
  },
  {
   "cell_type": "code",
   "execution_count": null,
   "metadata": {
    "collapsed": true
   },
   "outputs": [],
   "source": []
  },
  {
   "cell_type": "code",
   "execution_count": null,
   "metadata": {
    "collapsed": true
   },
   "outputs": [],
   "source": []
  },
  {
   "cell_type": "code",
   "execution_count": null,
   "metadata": {
    "collapsed": true
   },
   "outputs": [],
   "source": []
  },
  {
   "cell_type": "code",
   "execution_count": null,
   "metadata": {
    "collapsed": true
   },
   "outputs": [],
   "source": []
  }
 ],
 "metadata": {
  "kernelspec": {
   "display_name": "Python [graph_lab_env]",
   "language": "python",
   "name": "Python [graph_lab_env]"
  },
  "language_info": {
   "codemirror_mode": {
    "name": "ipython",
    "version": 2
   },
   "file_extension": ".py",
   "mimetype": "text/x-python",
   "name": "python",
   "nbconvert_exporter": "python",
   "pygments_lexer": "ipython2",
   "version": "2.7.12"
  }
 },
 "nbformat": 4,
 "nbformat_minor": 0
}
