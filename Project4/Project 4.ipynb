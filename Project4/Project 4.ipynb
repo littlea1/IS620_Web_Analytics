{
 "cells": [
  {
   "cell_type": "markdown",
   "metadata": {},
   "source": [
    "## Project 4 - Document Classifier Most Informative Features\n",
    "\n",
    "#### Using the movie review classifier discussed in this chapter, generate a list of the thirty features the classifier finds to be most informative. Can you explain why these features are informative? Do you find any of them surprising?\n",
    "\n",
    "In order to solve this I adapted the movie document classifier code in a class called MovieClassifier. On instantiation it builds automatically parses and builds featuresets from the movie review corpus. A function is then passed in to the public train method to extract features. A call to the most informative features wrapper returns n number of important features for the training data \n"
   ]
  },
  {
   "cell_type": "code",
   "execution_count": 2,
   "metadata": {
    "collapsed": false
   },
   "outputs": [],
   "source": [
    "from movie_classifier import MovieClassifier"
   ]
  },
  {
   "cell_type": "code",
   "execution_count": 4,
   "metadata": {
    "collapsed": true
   },
   "outputs": [],
   "source": [
    "m = MovieClassifier()"
   ]
  },
  {
   "cell_type": "markdown",
   "metadata": {},
   "source": [
    "Below is the feature function defined in the text to classify the movie reviews"
   ]
  },
  {
   "cell_type": "code",
   "execution_count": 5,
   "metadata": {
    "collapsed": true
   },
   "outputs": [],
   "source": [
    "def document_features(document, word_features):\n",
    "        document_words = set(document)\n",
    "        features = {}\n",
    "        for w in word_features:\n",
    "            features['contains({})'.format(w)] = (w in document_words)\n",
    "        return features"
   ]
  },
  {
   "cell_type": "code",
   "execution_count": 6,
   "metadata": {
    "collapsed": true
   },
   "outputs": [],
   "source": [
    "m.train(document_features)"
   ]
  },
  {
   "cell_type": "markdown",
   "metadata": {},
   "source": [
    "After the model is trained with NaiveBayesClassifier method we can look at the top 30 most important features"
   ]
  },
  {
   "cell_type": "code",
   "execution_count": 7,
   "metadata": {
    "collapsed": false
   },
   "outputs": [
    {
     "name": "stdout",
     "output_type": "stream",
     "text": [
      "Most Informative Features\n",
      "          contains(sans) = True              neg : pos    =      9.2 : 1.0\n",
      "    contains(mediocrity) = True              neg : pos    =      7.8 : 1.0\n",
      "     contains(dismissed) = True              pos : neg    =      6.9 : 1.0\n",
      "        contains(fabric) = True              pos : neg    =      6.2 : 1.0\n",
      "   contains(overwhelmed) = True              pos : neg    =      6.2 : 1.0\n",
      "         contains(wires) = True              neg : pos    =      5.8 : 1.0\n",
      "     contains(uplifting) = True              pos : neg    =      5.7 : 1.0\n",
      "       contains(topping) = True              pos : neg    =      5.5 : 1.0\n",
      "          contains(wits) = True              pos : neg    =      5.5 : 1.0\n",
      "           contains(ugh) = True              neg : pos    =      5.5 : 1.0\n",
      "  contains(effortlessly) = True              pos : neg    =      5.5 : 1.0\n",
      "   contains(bruckheimer) = True              neg : pos    =      5.1 : 1.0\n",
      "          contains(lang) = True              pos : neg    =      4.9 : 1.0\n",
      "        contains(doubts) = True              pos : neg    =      4.9 : 1.0\n",
      "       contains(maxwell) = True              neg : pos    =      4.4 : 1.0\n",
      "         contains(locks) = True              neg : pos    =      4.4 : 1.0\n",
      "   contains(understands) = True              pos : neg    =      4.3 : 1.0\n",
      "        contains(ballet) = True              pos : neg    =      4.2 : 1.0\n",
      "         contains(spins) = True              pos : neg    =      4.2 : 1.0\n",
      "         contains(tripe) = True              neg : pos    =      3.9 : 1.0\n",
      "     contains(testament) = True              pos : neg    =      3.8 : 1.0\n",
      "        contains(catchy) = True              pos : neg    =      3.8 : 1.0\n",
      "      contains(squabble) = True              neg : pos    =      3.7 : 1.0\n",
      "    contains(cronenberg) = True              pos : neg    =      3.7 : 1.0\n",
      "          contains(hugo) = True              pos : neg    =      3.7 : 1.0\n",
      "      contains(attorney) = True              pos : neg    =      3.6 : 1.0\n",
      "     contains(restoring) = True              pos : neg    =      3.6 : 1.0\n",
      "   contains(existential) = True              pos : neg    =      3.6 : 1.0\n",
      "      contains(matheson) = True              pos : neg    =      3.6 : 1.0\n",
      "       contains(bandits) = True              pos : neg    =      3.6 : 1.0\n"
     ]
    }
   ],
   "source": [
    "m.most_informative(30)"
   ]
  },
  {
   "cell_type": "markdown",
   "metadata": {},
   "source": [
    "The results show an interesting mix of adjectives, subjects and names. The top most informative feature is the word 'sans', which has a common meaning of 'lacking' or 'without'. A review is 9.2 times more likely to be negative if this word is present in the document. A review with the word 'mediocrity' is 7.8 times more likely to be negative.\n",
    "\n",
    "There are also several interesting names in the features list. The words 'bruckheimer', 'cronenberg' and 'matheson' refer to directors George Bruckheimer, David Cronenberg and Richard Matheson. In general these directors produce well received movies and reviews are 3 to 4 times more likely to be positive if their names are present. The word 'hugo' is also positive and most likely means that the movie recieved a 'Hugo' award. \n",
    "\n",
    "Finally we can test the classifier for accuracy."
   ]
  },
  {
   "cell_type": "code",
   "execution_count": 8,
   "metadata": {
    "collapsed": false
   },
   "outputs": [
    {
     "data": {
      "text/plain": [
       "0.71"
      ]
     },
     "execution_count": 8,
     "metadata": {},
     "output_type": "execute_result"
    }
   ],
   "source": [
    "m.report_accuracy()"
   ]
  },
  {
   "cell_type": "markdown",
   "metadata": {},
   "source": [
    "This means that the document classifier is correct in its prediction 71% of the time"
   ]
  }
 ],
 "metadata": {
  "kernelspec": {
   "display_name": "Python 2",
   "language": "python",
   "name": "python2"
  },
  "language_info": {
   "codemirror_mode": {
    "name": "ipython",
    "version": 2
   },
   "file_extension": ".py",
   "mimetype": "text/x-python",
   "name": "python",
   "nbconvert_exporter": "python",
   "pygments_lexer": "ipython2",
   "version": "2.7.10"
  }
 },
 "nbformat": 4,
 "nbformat_minor": 0
}
