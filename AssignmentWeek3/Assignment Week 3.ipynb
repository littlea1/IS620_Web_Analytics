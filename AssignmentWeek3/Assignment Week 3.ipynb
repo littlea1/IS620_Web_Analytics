{
 "cells": [
  {
   "cell_type": "markdown",
   "metadata": {},
   "source": [
    "## Assignment Week 3\n",
    "The edge data for this project is taken from the Stanford Large Network Dataset Collection. It is the wiki-vote dataset, a collection of relationships between wiki users who voted for other wiki users to be elected to the position of administrator. Each node represents one user (given as an id number) and the edge data shows who each user voted for in the network.\n",
    "\n",
    "This assignment looks at the diameter, degree metrics and pagerank of a small neighborhood around an arbitrary user.\n"
   ]
  },
  {
   "cell_type": "code",
   "execution_count": 1,
   "metadata": {
    "collapsed": true
   },
   "outputs": [],
   "source": [
    "import graphlab as gl\n"
   ]
  },
  {
   "cell_type": "code",
   "execution_count": 2,
   "metadata": {
    "collapsed": false
   },
   "outputs": [
    {
     "name": "stdout",
     "output_type": "stream",
     "text": [
      "This non-commercial license of GraphLab Create for academic use is assigned to john.deblase@spsmail.cuny.edu and will expire on August 29, 2017.\n"
     ]
    },
    {
     "name": "stderr",
     "output_type": "stream",
     "text": [
      "[INFO] graphlab.cython.cy_server: GraphLab Create v2.1 started. Logging: /tmp/graphlab_server_1474206252.log\n"
     ]
    },
    {
     "data": {
      "text/html": [
       "<pre>Unable to parse line \"30\t1412\t\"</pre>"
      ],
      "text/plain": [
       "Unable to parse line \"30\t1412\t\""
      ]
     },
     "metadata": {},
     "output_type": "display_data"
    },
    {
     "data": {
      "text/html": [
       "<pre>1 lines failed to parse correctly</pre>"
      ],
      "text/plain": [
       "1 lines failed to parse correctly"
      ]
     },
     "metadata": {},
     "output_type": "display_data"
    },
    {
     "data": {
      "text/html": [
       "<pre>Finished parsing file /home/bsnacks/Documents/CUNY/Web_Analytics_620/Assignment2/wiki-vote-edges-clean.txt</pre>"
      ],
      "text/plain": [
       "Finished parsing file /home/bsnacks/Documents/CUNY/Web_Analytics_620/Assignment2/wiki-vote-edges-clean.txt"
      ]
     },
     "metadata": {},
     "output_type": "display_data"
    },
    {
     "data": {
      "text/html": [
       "<pre>Parsing completed. Parsed 100 lines in 0.06237 secs.</pre>"
      ],
      "text/plain": [
       "Parsing completed. Parsed 100 lines in 0.06237 secs."
      ]
     },
     "metadata": {},
     "output_type": "display_data"
    },
    {
     "name": "stdout",
     "output_type": "stream",
     "text": [
      "------------------------------------------------------\n",
      "Inferred types from first 100 line(s) of file as \n",
      "column_type_hints=[int,int]\n",
      "If parsing fails due to incorrect types, you can correct\n",
      "the inferred type list above and pass it to read_csv in\n",
      "the column_type_hints argument\n",
      "------------------------------------------------------\n"
     ]
    },
    {
     "data": {
      "text/html": [
       "<pre>Unable to parse line \"30\t1412\t\"</pre>"
      ],
      "text/plain": [
       "Unable to parse line \"30\t1412\t\""
      ]
     },
     "metadata": {},
     "output_type": "display_data"
    },
    {
     "data": {
      "text/html": [
       "<pre>1 lines failed to parse correctly</pre>"
      ],
      "text/plain": [
       "1 lines failed to parse correctly"
      ]
     },
     "metadata": {},
     "output_type": "display_data"
    },
    {
     "data": {
      "text/html": [
       "<pre>Finished parsing file /home/bsnacks/Documents/CUNY/Web_Analytics_620/Assignment2/wiki-vote-edges-clean.txt</pre>"
      ],
      "text/plain": [
       "Finished parsing file /home/bsnacks/Documents/CUNY/Web_Analytics_620/Assignment2/wiki-vote-edges-clean.txt"
      ]
     },
     "metadata": {},
     "output_type": "display_data"
    },
    {
     "data": {
      "text/html": [
       "<pre>Parsing completed. Parsed 103688 lines in 0.045297 secs.</pre>"
      ],
      "text/plain": [
       "Parsing completed. Parsed 103688 lines in 0.045297 secs."
      ]
     },
     "metadata": {},
     "output_type": "display_data"
    }
   ],
   "source": [
    "edge_data = gl.SFrame.read_csv(\"wiki-vote-edges-clean.txt\",delimiter='\\t')"
   ]
  },
  {
   "cell_type": "code",
   "execution_count": 3,
   "metadata": {
    "collapsed": false
   },
   "outputs": [],
   "source": [
    "g = gl.SGraph(edges=edge_data, src_field='FromNodeId', dst_field='ToNodeId')"
   ]
  },
  {
   "cell_type": "code",
   "execution_count": 4,
   "metadata": {
    "collapsed": false
   },
   "outputs": [],
   "source": [
    "## load a small subset of the graph... neighborhood of radius 1 node 3\n",
    "\n",
    "subg = g.get_neighborhood(ids=[3],radius=1)"
   ]
  },
  {
   "cell_type": "code",
   "execution_count": 5,
   "metadata": {
    "collapsed": false
   },
   "outputs": [
    {
     "data": {
      "application/javascript": [
       "$(\"head\").append($(\"<link/>\").attr({\n",
       "  rel:  \"stylesheet\",\n",
       "  type: \"text/css\",\n",
       "  href: \"//cdnjs.cloudflare.com/ajax/libs/font-awesome/4.1.0/css/font-awesome.min.css\"\n",
       "}));\n",
       "$(\"head\").append($(\"<link/>\").attr({\n",
       "  rel:  \"stylesheet\",\n",
       "  type: \"text/css\",\n",
       "  href: \"https://static.turi.com/products/graphlab-create/2.1/canvas/css/canvas.css\"\n",
       "}));\n",
       "\n",
       "            (function(){\n",
       "\n",
       "                var e = null;\n",
       "                if (typeof element == 'undefined') {\n",
       "                    var scripts = document.getElementsByTagName('script');\n",
       "                    var thisScriptTag = scripts[scripts.length-1];\n",
       "                    var parentDiv = thisScriptTag.parentNode;\n",
       "                    e = document.createElement('div');\n",
       "                    parentDiv.appendChild(e);\n",
       "                } else {\n",
       "                    e = element[0];\n",
       "                }\n",
       "\n",
       "                if (typeof requirejs !== 'undefined') {\n",
       "                    // disable load timeout; ipython_app.js is large and can take a while to load.\n",
       "                    requirejs.config({waitSeconds: 0});\n",
       "                }\n",
       "\n",
       "                require(['https://static.turi.com/products/graphlab-create/2.1/canvas/js/ipython_app.js'], function(IPythonApp){\n",
       "                    var app = new IPythonApp();\n",
       "                    app.attachView('sgraph','View', {\"edges_labels\": null, \"selected_variable\": {\"name\": [\"subg\"], \"view_file\": \"sgraph\", \"view_component\": \"View\", \"view_params\": {\"elabel_hover\": false, \"vertex_positions\": null, \"h_offset\": 0.0, \"node_size\": 300, \"ecolor\": [0.37, 0.33, 0.33], \"elabel\": null, \"arrows\": true, \"ewidth\": 1, \"vlabel\": \"__id\", \"highlight_color\": [[0.69, 0.0, 0.498]], \"vcolor\": [0.522, 0.741, 0.0], \"vlabel_hover\": false, \"highlight\": {\"3\": [0.69, 0.0, 0.498]}, \"v_offset\": 0.03}, \"view_components\": [\"View\"], \"type\": \"SGraph\", \"descriptives_links\": {\"edges\": \"edges\", \"vertices\": \"vertices\"}, \"descriptives\": {\"edges\": 349, \"vertices\": 52}}, \"positions\": null, \"error_type\": 0, \"vertices\": [178, 73, 47, 29, 10, 34, 30, 604, 586, 300, 143, 26, 8283, 348, 59, 46, 108, 35, 286, 269, 292, 214, 349, 111, 28, 6, 611, 25, 54, 3, 371, 127, 567, 182, 180, 138, 14, 94, 39, 20, 41, 584, 19, 581, 590, 284, 271, 223, 24, 152, 139, 17], \"vertices_labels\": [178, 73, 47, 29, 10, 34, 30, 604, 586, 300, 143, 26, 8283, 348, 59, 46, 108, 35, 286, 269, 292, 214, 349, 111, 28, 6, 611, 25, 54, 3, 371, 127, 567, 182, 180, 138, 14, 94, 39, 20, 41, 584, 19, 581, 590, 284, 271, 223, 24, 152, 139, 17], \"edges\": [[47, 10], [47, 178], [29, 10], [10, 34], [10, 30], [29, 604], [10, 300], [47, 300], [29, 300], [29, 348], [10, 28], [29, 214], [10, 6], [10, 286], [47, 214], [47, 286], [47, 28], [73, 28], [10, 214], [29, 28], [73, 214], [29, 286], [29, 611], [10, 3], [47, 94], [47, 127], [178, 182], [178, 3], [29, 127], [178, 371], [47, 54], [47, 3], [29, 54], [10, 54], [73, 3], [47, 182], [29, 3], [47, 39], [10, 19], [29, 39], [47, 19], [47, 152], [10, 271], [29, 271], [73, 152], [29, 152], [178, 590], [178, 271], [47, 271], [34, 6], [34, 54], [34, 3], [34, 39], [143, 29], [143, 35], [143, 28], [143, 214], [143, 3], [143, 567], [143, 182], [143, 19], [143, 271], [143, 590], [26, 34], [26, 300], [46, 300], [35, 300], [108, 8283], [26, 348], [46, 348], [35, 348], [59, 214], [26, 6], [26, 28], [35, 214], [59, 28], [46, 286], [46, 214], [26, 349], [26, 214], [26, 286], [46, 54], [46, 3], [46, 371], [26, 371], [26, 567], [26, 54], [59, 3], [35, 3], [35, 54], [26, 3], [26, 182], [26, 127], [59, 371], [46, 182], [26, 584], [59, 584], [26, 581], [35, 39], [26, 39], [26, 19], [59, 271], [348, 271], [26, 152], [35, 271], [59, 152], [35, 152], [46, 152], [26, 271], [26, 590], [46, 271], [46, 590], [28, 29], [6, 29], [6, 178], [6, 10], [292, 178], [28, 178], [6, 30], [28, 34], [6, 34], [6, 604], [6, 586], [111, 300], [6, 300], [269, 348], [6, 35], [6, 348], [28, 35], [6, 28], [28, 214], [28, 6], [6, 286], [6, 349], [111, 3], [6, 3], [6, 182], [28, 94], [28, 127], [28, 3], [6, 54], [6, 371], [292, 3], [28, 54], [6, 611], [6, 94], [6, 567], [6, 127], [269, 3], [111, 611], [28, 182], [111, 39], [6, 581], [6, 584], [6, 19], [6, 39], [28, 584], [28, 19], [111, 271], [6, 590], [269, 271], [28, 152], [28, 590], [6, 271], [28, 271], [14, 178], [14, 10], [127, 178], [371, 29], [3, 178], [25, 29], [3, 30], [25, 30], [14, 30], [3, 300], [3, 604], [3, 586], [25, 300], [25, 604], [3, 8283], [94, 348], [3, 348], [25, 35], [25, 348], [127, 35], [3, 108], [3, 286], [3, 214], [138, 28], [25, 214], [54, 28], [25, 286], [14, 214], [3, 349], [3, 28], [94, 349], [94, 214], [25, 6], [127, 28], [94, 28], [94, 286], [14, 28], [54, 214], [180, 349], [25, 28], [25, 349], [3, 182], [25, 182], [14, 3], [14, 567], [14, 182], [180, 3], [3, 54], [180, 182], [14, 371], [94, 127], [371, 567], [127, 3], [25, 611], [25, 127], [54, 3], [25, 54], [25, 371], [3, 371], [567, 371], [25, 94], [14, 127], [14, 54], [3, 611], [138, 3], [3, 567], [94, 3], [14, 611], [25, 3], [127, 584], [14, 584], [567, 584], [3, 584], [3, 39], [3, 581], [94, 19], [25, 19], [94, 39], [14, 581], [138, 19], [127, 152], [3, 271], [94, 152], [3, 152], [138, 271], [127, 271], [180, 271], [14, 152], [371, 271], [182, 590], [138, 590], [182, 271], [94, 271], [3, 590], [25, 271], [25, 590], [14, 271], [371, 590], [25, 152], [39, 29], [19, 30], [20, 30], [20, 34], [584, 604], [20, 348], [39, 35], [19, 214], [41, 28], [39, 28], [19, 28], [19, 6], [20, 214], [20, 286], [20, 6], [19, 286], [39, 6], [584, 371], [20, 3], [19, 3], [20, 371], [19, 127], [39, 127], [41, 54], [19, 182], [20, 567], [20, 182], [20, 54], [20, 611], [39, 611], [39, 182], [41, 3], [39, 54], [19, 54], [19, 371], [19, 581], [20, 19], [19, 584], [39, 271], [584, 590], [39, 152], [41, 271], [19, 271], [20, 271], [19, 590], [20, 590], [17, 10], [17, 30], [24, 34], [24, 30], [152, 586], [17, 35], [24, 35], [24, 348], [223, 348], [152, 35], [17, 108], [24, 214], [152, 28], [223, 28], [24, 28], [17, 214], [139, 28], [152, 214], [17, 28], [284, 286], [152, 182], [284, 3], [152, 567], [24, 3], [24, 54], [17, 127], [17, 3], [223, 3], [139, 611], [17, 54], [139, 3], [152, 581], [284, 19], [24, 19], [17, 271], [223, 590], [17, 590], [139, 271], [24, 271]], \"ipython\": true, \"error_msg\": \"\"}, e);\n",
       "                });\n",
       "            })();\n",
       "        "
      ]
     },
     "metadata": {},
     "output_type": "display_data"
    }
   ],
   "source": [
    "gl.canvas.set_target('ipynb')\n",
    "subg.show(arrows=True, highlight=[3], vlabel='__id')"
   ]
  },
  {
   "cell_type": "markdown",
   "metadata": {},
   "source": [
    "## Metric 1 - Diameter"
   ]
  },
  {
   "cell_type": "code",
   "execution_count": 20,
   "metadata": {
    "collapsed": false
   },
   "outputs": [
    {
     "data": {
      "text/html": [
       "<pre>+----------------------------+</pre>"
      ],
      "text/plain": [
       "+----------------------------+"
      ]
     },
     "metadata": {},
     "output_type": "display_data"
    },
    {
     "data": {
      "text/html": [
       "<pre>| Number of vertices updated |</pre>"
      ],
      "text/plain": [
       "| Number of vertices updated |"
      ]
     },
     "metadata": {},
     "output_type": "display_data"
    },
    {
     "data": {
      "text/html": [
       "<pre>+----------------------------+</pre>"
      ],
      "text/plain": [
       "+----------------------------+"
      ]
     },
     "metadata": {},
     "output_type": "display_data"
    },
    {
     "data": {
      "text/html": [
       "<pre>| 36                         |</pre>"
      ],
      "text/plain": [
       "| 36                         |"
      ]
     },
     "metadata": {},
     "output_type": "display_data"
    },
    {
     "data": {
      "text/html": [
       "<pre>| 4                          |</pre>"
      ],
      "text/plain": [
       "| 4                          |"
      ]
     },
     "metadata": {},
     "output_type": "display_data"
    },
    {
     "data": {
      "text/html": [
       "<pre>| 0                          |</pre>"
      ],
      "text/plain": [
       "| 0                          |"
      ]
     },
     "metadata": {},
     "output_type": "display_data"
    },
    {
     "data": {
      "text/html": [
       "<pre>+----------------------------+</pre>"
      ],
      "text/plain": [
       "+----------------------------+"
      ]
     },
     "metadata": {},
     "output_type": "display_data"
    }
   ],
   "source": [
    "## To find diameter -> max of shortest path between vertices\n",
    "\n",
    "# This is an unconnected graph and therefore the diameter is infinite\n",
    "sp = gl.shortest_path.create(subg, 3)  # shortest paths from node 3"
   ]
  },
  {
   "cell_type": "code",
   "execution_count": 21,
   "metadata": {
    "collapsed": false
   },
   "outputs": [
    {
     "data": {
      "text/plain": [
       "1e+30"
      ]
     },
     "execution_count": 21,
     "metadata": {},
     "output_type": "execute_result"
    }
   ],
   "source": [
    "sp['max_distance']  # 1e+30 means inf"
   ]
  },
  {
   "cell_type": "markdown",
   "metadata": {},
   "source": [
    "## Metric 2 - Degree Count and Aggregation"
   ]
  },
  {
   "cell_type": "code",
   "execution_count": 25,
   "metadata": {
    "collapsed": false
   },
   "outputs": [],
   "source": [
    "# max out_degree and in_degree, average total degree of graph\n",
    "\n",
    "deg_model = gl.degree_counting.create(subg)\n",
    "deg_graph = deg_model['graph']\n"
   ]
  },
  {
   "cell_type": "code",
   "execution_count": 22,
   "metadata": {
    "collapsed": false
   },
   "outputs": [
    {
     "data": {
      "text/html": [
       "<div style=\"max-height:1000px;max-width:1500px;overflow:auto;\"><table frame=\"box\" rules=\"cols\">\n",
       "    <tr>\n",
       "        <th style=\"padding-left: 1em; padding-right: 1em; text-align: center\">__id</th>\n",
       "        <th style=\"padding-left: 1em; padding-right: 1em; text-align: center\">in_degree</th>\n",
       "        <th style=\"padding-left: 1em; padding-right: 1em; text-align: center\">out_degree</th>\n",
       "        <th style=\"padding-left: 1em; padding-right: 1em; text-align: center\">total_degree</th>\n",
       "    </tr>\n",
       "    <tr>\n",
       "        <td style=\"padding-left: 1em; padding-right: 1em; text-align: center; vertical-align: top\">178</td>\n",
       "        <td style=\"padding-left: 1em; padding-right: 1em; text-align: center; vertical-align: top\">7</td>\n",
       "        <td style=\"padding-left: 1em; padding-right: 1em; text-align: center; vertical-align: top\">5</td>\n",
       "        <td style=\"padding-left: 1em; padding-right: 1em; text-align: center; vertical-align: top\">12</td>\n",
       "    </tr>\n",
       "    <tr>\n",
       "        <td style=\"padding-left: 1em; padding-right: 1em; text-align: center; vertical-align: top\">73</td>\n",
       "        <td style=\"padding-left: 1em; padding-right: 1em; text-align: center; vertical-align: top\">0</td>\n",
       "        <td style=\"padding-left: 1em; padding-right: 1em; text-align: center; vertical-align: top\">4</td>\n",
       "        <td style=\"padding-left: 1em; padding-right: 1em; text-align: center; vertical-align: top\">4</td>\n",
       "    </tr>\n",
       "    <tr>\n",
       "        <td style=\"padding-left: 1em; padding-right: 1em; text-align: center; vertical-align: top\">47</td>\n",
       "        <td style=\"padding-left: 1em; padding-right: 1em; text-align: center; vertical-align: top\">0</td>\n",
       "        <td style=\"padding-left: 1em; padding-right: 1em; text-align: center; vertical-align: top\">15</td>\n",
       "        <td style=\"padding-left: 1em; padding-right: 1em; text-align: center; vertical-align: top\">15</td>\n",
       "    </tr>\n",
       "    <tr>\n",
       "        <td style=\"padding-left: 1em; padding-right: 1em; text-align: center; vertical-align: top\">29</td>\n",
       "        <td style=\"padding-left: 1em; padding-right: 1em; text-align: center; vertical-align: top\">6</td>\n",
       "        <td style=\"padding-left: 1em; padding-right: 1em; text-align: center; vertical-align: top\">14</td>\n",
       "        <td style=\"padding-left: 1em; padding-right: 1em; text-align: center; vertical-align: top\">20</td>\n",
       "    </tr>\n",
       "    <tr>\n",
       "        <td style=\"padding-left: 1em; padding-right: 1em; text-align: center; vertical-align: top\">10</td>\n",
       "        <td style=\"padding-left: 1em; padding-right: 1em; text-align: center; vertical-align: top\">5</td>\n",
       "        <td style=\"padding-left: 1em; padding-right: 1em; text-align: center; vertical-align: top\">11</td>\n",
       "        <td style=\"padding-left: 1em; padding-right: 1em; text-align: center; vertical-align: top\">16</td>\n",
       "    </tr>\n",
       "    <tr>\n",
       "        <td style=\"padding-left: 1em; padding-right: 1em; text-align: center; vertical-align: top\">34</td>\n",
       "        <td style=\"padding-left: 1em; padding-right: 1em; text-align: center; vertical-align: top\">6</td>\n",
       "        <td style=\"padding-left: 1em; padding-right: 1em; text-align: center; vertical-align: top\">4</td>\n",
       "        <td style=\"padding-left: 1em; padding-right: 1em; text-align: center; vertical-align: top\">10</td>\n",
       "    </tr>\n",
       "    <tr>\n",
       "        <td style=\"padding-left: 1em; padding-right: 1em; text-align: center; vertical-align: top\">30</td>\n",
       "        <td style=\"padding-left: 1em; padding-right: 1em; text-align: center; vertical-align: top\">9</td>\n",
       "        <td style=\"padding-left: 1em; padding-right: 1em; text-align: center; vertical-align: top\">0</td>\n",
       "        <td style=\"padding-left: 1em; padding-right: 1em; text-align: center; vertical-align: top\">9</td>\n",
       "    </tr>\n",
       "    <tr>\n",
       "        <td style=\"padding-left: 1em; padding-right: 1em; text-align: center; vertical-align: top\">604</td>\n",
       "        <td style=\"padding-left: 1em; padding-right: 1em; text-align: center; vertical-align: top\">5</td>\n",
       "        <td style=\"padding-left: 1em; padding-right: 1em; text-align: center; vertical-align: top\">0</td>\n",
       "        <td style=\"padding-left: 1em; padding-right: 1em; text-align: center; vertical-align: top\">5</td>\n",
       "    </tr>\n",
       "    <tr>\n",
       "        <td style=\"padding-left: 1em; padding-right: 1em; text-align: center; vertical-align: top\">586</td>\n",
       "        <td style=\"padding-left: 1em; padding-right: 1em; text-align: center; vertical-align: top\">3</td>\n",
       "        <td style=\"padding-left: 1em; padding-right: 1em; text-align: center; vertical-align: top\">0</td>\n",
       "        <td style=\"padding-left: 1em; padding-right: 1em; text-align: center; vertical-align: top\">3</td>\n",
       "    </tr>\n",
       "    <tr>\n",
       "        <td style=\"padding-left: 1em; padding-right: 1em; text-align: center; vertical-align: top\">300</td>\n",
       "        <td style=\"padding-left: 1em; padding-right: 1em; text-align: center; vertical-align: top\">10</td>\n",
       "        <td style=\"padding-left: 1em; padding-right: 1em; text-align: center; vertical-align: top\">0</td>\n",
       "        <td style=\"padding-left: 1em; padding-right: 1em; text-align: center; vertical-align: top\">10</td>\n",
       "    </tr>\n",
       "</table>\n",
       "[52 rows x 4 columns]<br/>Note: Only the head of the SFrame is printed.<br/>You can use print_rows(num_rows=m, num_columns=n) to print more rows and columns.\n",
       "</div>"
      ],
      "text/plain": [
       "Columns:\n",
       "\t__id\tint\n",
       "\tin_degree\tint\n",
       "\tout_degree\tint\n",
       "\ttotal_degree\tint\n",
       "\n",
       "Rows: 52\n",
       "\n",
       "Data:\n",
       "+------+-----------+------------+--------------+\n",
       "| __id | in_degree | out_degree | total_degree |\n",
       "+------+-----------+------------+--------------+\n",
       "| 178  |     7     |     5      |      12      |\n",
       "|  73  |     0     |     4      |      4       |\n",
       "|  47  |     0     |     15     |      15      |\n",
       "|  29  |     6     |     14     |      20      |\n",
       "|  10  |     5     |     11     |      16      |\n",
       "|  34  |     6     |     4      |      10      |\n",
       "|  30  |     9     |     0      |      9       |\n",
       "| 604  |     5     |     0      |      5       |\n",
       "| 586  |     3     |     0      |      3       |\n",
       "| 300  |     10    |     0      |      10      |\n",
       "+------+-----------+------------+--------------+\n",
       "[52 rows x 4 columns]\n",
       "Note: Only the head of the SFrame is printed.\n",
       "You can use print_rows(num_rows=m, num_columns=n) to print more rows and columns."
      ]
     },
     "execution_count": 22,
     "metadata": {},
     "output_type": "execute_result"
    }
   ],
   "source": [
    "deg_frame = deg_graph.vertices[['__id', 'in_degree', 'out_degree','total_degree']]\n",
    "deg_frame"
   ]
  },
  {
   "cell_type": "code",
   "execution_count": 9,
   "metadata": {
    "collapsed": false
   },
   "outputs": [],
   "source": [
    "# maxs and mins for in and out degree -> which nodes in nhood got most votes\n",
    "# which nodes got the least vote\n",
    "# what were the average total degrees in the nhood graph\n",
    "\n",
    "max_indeg_indx = deg_frame[deg_frame['in_degree'].argmax()]\n",
    "max_outdeg_indx = deg_frame[deg_frame['out_degree'].argmax()]\n",
    "\n",
    "min_indeg_indx = deg_frame[deg_frame['in_degree'].argmin()]\n",
    "min_outdeg_indx = deg_frame[deg_frame['out_degree'].argmin()]\n",
    "\n",
    "avg_deg = deg_frame['total_degree'].mean()"
   ]
  },
  {
   "cell_type": "code",
   "execution_count": 10,
   "metadata": {
    "collapsed": false
   },
   "outputs": [
    {
     "data": {
      "text/plain": [
       "{'__id': 3, 'in_degree': 31, 'out_degree': 23, 'total_degree': 54}"
      ]
     },
     "execution_count": 10,
     "metadata": {},
     "output_type": "execute_result"
    }
   ],
   "source": [
    "max_indeg_indx"
   ]
  },
  {
   "cell_type": "code",
   "execution_count": 11,
   "metadata": {
    "collapsed": false
   },
   "outputs": [
    {
     "data": {
      "text/plain": [
       "{'__id': 6, 'in_degree': 8, 'out_degree': 27, 'total_degree': 35}"
      ]
     },
     "execution_count": 11,
     "metadata": {},
     "output_type": "execute_result"
    }
   ],
   "source": [
    "max_outdeg_indx"
   ]
  },
  {
   "cell_type": "code",
   "execution_count": 12,
   "metadata": {
    "collapsed": false
   },
   "outputs": [
    {
     "data": {
      "text/plain": [
       "{'__id': 25, 'in_degree': 0, 'out_degree': 22, 'total_degree': 22}"
      ]
     },
     "execution_count": 12,
     "metadata": {},
     "output_type": "execute_result"
    }
   ],
   "source": [
    "min_indeg_indx"
   ]
  },
  {
   "cell_type": "code",
   "execution_count": 13,
   "metadata": {
    "collapsed": false
   },
   "outputs": [
    {
     "data": {
      "text/plain": [
       "{'__id': 611, 'in_degree': 9, 'out_degree': 0, 'total_degree': 9}"
      ]
     },
     "execution_count": 13,
     "metadata": {},
     "output_type": "execute_result"
    }
   ],
   "source": [
    "min_outdeg_indx"
   ]
  },
  {
   "cell_type": "code",
   "execution_count": 14,
   "metadata": {
    "collapsed": false
   },
   "outputs": [
    {
     "data": {
      "text/plain": [
       "13.423076923076925"
      ]
     },
     "execution_count": 14,
     "metadata": {},
     "output_type": "execute_result"
    }
   ],
   "source": [
    "avg_deg"
   ]
  },
  {
   "cell_type": "markdown",
   "metadata": {},
   "source": [
    "## Metric 3 - pagerank centrality measure"
   ]
  },
  {
   "cell_type": "code",
   "execution_count": 15,
   "metadata": {
    "collapsed": false,
    "scrolled": true
   },
   "outputs": [
    {
     "data": {
      "text/html": [
       "<pre>Counting out degree</pre>"
      ],
      "text/plain": [
       "Counting out degree"
      ]
     },
     "metadata": {},
     "output_type": "display_data"
    },
    {
     "data": {
      "text/html": [
       "<pre>Done counting out degree</pre>"
      ],
      "text/plain": [
       "Done counting out degree"
      ]
     },
     "metadata": {},
     "output_type": "display_data"
    },
    {
     "data": {
      "text/html": [
       "<pre>+-----------+-----------------------+</pre>"
      ],
      "text/plain": [
       "+-----------+-----------------------+"
      ]
     },
     "metadata": {},
     "output_type": "display_data"
    },
    {
     "data": {
      "text/html": [
       "<pre>| Iteration | L1 change in pagerank |</pre>"
      ],
      "text/plain": [
       "| Iteration | L1 change in pagerank |"
      ]
     },
     "metadata": {},
     "output_type": "display_data"
    },
    {
     "data": {
      "text/html": [
       "<pre>+-----------+-----------------------+</pre>"
      ],
      "text/plain": [
       "+-----------+-----------------------+"
      ]
     },
     "metadata": {},
     "output_type": "display_data"
    },
    {
     "data": {
      "text/html": [
       "<pre>| 1         | 36.4628               |</pre>"
      ],
      "text/plain": [
       "| 1         | 36.4628               |"
      ]
     },
     "metadata": {},
     "output_type": "display_data"
    },
    {
     "data": {
      "text/html": [
       "<pre>| 2         | 12.4379               |</pre>"
      ],
      "text/plain": [
       "| 2         | 12.4379               |"
      ]
     },
     "metadata": {},
     "output_type": "display_data"
    },
    {
     "data": {
      "text/html": [
       "<pre>| 3         | 6.75043               |</pre>"
      ],
      "text/plain": [
       "| 3         | 6.75043               |"
      ]
     },
     "metadata": {},
     "output_type": "display_data"
    },
    {
     "data": {
      "text/html": [
       "<pre>| 4         | 3.07904               |</pre>"
      ],
      "text/plain": [
       "| 4         | 3.07904               |"
      ]
     },
     "metadata": {},
     "output_type": "display_data"
    },
    {
     "data": {
      "text/html": [
       "<pre>| 5         | 1.45451               |</pre>"
      ],
      "text/plain": [
       "| 5         | 1.45451               |"
      ]
     },
     "metadata": {},
     "output_type": "display_data"
    },
    {
     "data": {
      "text/html": [
       "<pre>| 6         | 0.683131              |</pre>"
      ],
      "text/plain": [
       "| 6         | 0.683131              |"
      ]
     },
     "metadata": {},
     "output_type": "display_data"
    },
    {
     "data": {
      "text/html": [
       "<pre>| 7         | 0.330123              |</pre>"
      ],
      "text/plain": [
       "| 7         | 0.330123              |"
      ]
     },
     "metadata": {},
     "output_type": "display_data"
    },
    {
     "data": {
      "text/html": [
       "<pre>| 8         | 0.158337              |</pre>"
      ],
      "text/plain": [
       "| 8         | 0.158337              |"
      ]
     },
     "metadata": {},
     "output_type": "display_data"
    },
    {
     "data": {
      "text/html": [
       "<pre>| 9         | 0.0764542             |</pre>"
      ],
      "text/plain": [
       "| 9         | 0.0764542             |"
      ]
     },
     "metadata": {},
     "output_type": "display_data"
    },
    {
     "data": {
      "text/html": [
       "<pre>| 10        | 0.0369545             |</pre>"
      ],
      "text/plain": [
       "| 10        | 0.0369545             |"
      ]
     },
     "metadata": {},
     "output_type": "display_data"
    },
    {
     "data": {
      "text/html": [
       "<pre>| 11        | 0.0178656             |</pre>"
      ],
      "text/plain": [
       "| 11        | 0.0178656             |"
      ]
     },
     "metadata": {},
     "output_type": "display_data"
    },
    {
     "data": {
      "text/html": [
       "<pre>| 12        | 0.00864778            |</pre>"
      ],
      "text/plain": [
       "| 12        | 0.00864778            |"
      ]
     },
     "metadata": {},
     "output_type": "display_data"
    },
    {
     "data": {
      "text/html": [
       "<pre>+-----------+-----------------------+</pre>"
      ],
      "text/plain": [
       "+-----------+-----------------------+"
      ]
     },
     "metadata": {},
     "output_type": "display_data"
    }
   ],
   "source": [
    "# calculate pagerank of each node in the nhood and find top 5 \n",
    "\n",
    "pr_model = gl.pagerank.create(subg)\n",
    "pr_graph = pr_model['graph']\n",
    "pr_frame = pr_graph.vertices[['__id', 'pagerank']]"
   ]
  },
  {
   "cell_type": "code",
   "execution_count": 23,
   "metadata": {
    "collapsed": false
   },
   "outputs": [
    {
     "data": {
      "text/html": [
       "<div style=\"max-height:1000px;max-width:1500px;overflow:auto;\"><table frame=\"box\" rules=\"cols\">\n",
       "    <tr>\n",
       "        <th style=\"padding-left: 1em; padding-right: 1em; text-align: center\">__id</th>\n",
       "        <th style=\"padding-left: 1em; padding-right: 1em; text-align: center\">pagerank</th>\n",
       "    </tr>\n",
       "    <tr>\n",
       "        <td style=\"padding-left: 1em; padding-right: 1em; text-align: center; vertical-align: top\">271</td>\n",
       "        <td style=\"padding-left: 1em; padding-right: 1em; text-align: center; vertical-align: top\">1.49255977897</td>\n",
       "    </tr>\n",
       "    <tr>\n",
       "        <td style=\"padding-left: 1em; padding-right: 1em; text-align: center; vertical-align: top\">3</td>\n",
       "        <td style=\"padding-left: 1em; padding-right: 1em; text-align: center; vertical-align: top\">1.09222054154</td>\n",
       "    </tr>\n",
       "    <tr>\n",
       "        <td style=\"padding-left: 1em; padding-right: 1em; text-align: center; vertical-align: top\">590</td>\n",
       "        <td style=\"padding-left: 1em; padding-right: 1em; text-align: center; vertical-align: top\">0.950949870307</td>\n",
       "    </tr>\n",
       "    <tr>\n",
       "        <td style=\"padding-left: 1em; padding-right: 1em; text-align: center; vertical-align: top\">28</td>\n",
       "        <td style=\"padding-left: 1em; padding-right: 1em; text-align: center; vertical-align: top\">0.799160571616</td>\n",
       "    </tr>\n",
       "    <tr>\n",
       "        <td style=\"padding-left: 1em; padding-right: 1em; text-align: center; vertical-align: top\">214</td>\n",
       "        <td style=\"padding-left: 1em; padding-right: 1em; text-align: center; vertical-align: top\">0.697230547633</td>\n",
       "    </tr>\n",
       "</table>\n",
       "[5 rows x 2 columns]<br/>\n",
       "</div>"
      ],
      "text/plain": [
       "Columns:\n",
       "\t__id\tint\n",
       "\tpagerank\tfloat\n",
       "\n",
       "Rows: 5\n",
       "\n",
       "Data:\n",
       "+------+----------------+\n",
       "| __id |    pagerank    |\n",
       "+------+----------------+\n",
       "| 271  | 1.49255977897  |\n",
       "|  3   | 1.09222054154  |\n",
       "| 590  | 0.950949870307 |\n",
       "|  28  | 0.799160571616 |\n",
       "| 214  | 0.697230547633 |\n",
       "+------+----------------+\n",
       "[5 rows x 2 columns]"
      ]
     },
     "execution_count": 23,
     "metadata": {},
     "output_type": "execute_result"
    }
   ],
   "source": [
    "pagerank_top_nodes = pr_frame.sort('pagerank',ascending=False)[0:5]\n",
    "pagerank_top_nodes"
   ]
  },
  {
   "cell_type": "markdown",
   "metadata": {},
   "source": [
    "## File Export for graph database"
   ]
  },
  {
   "cell_type": "code",
   "execution_count": 17,
   "metadata": {
    "collapsed": false
   },
   "outputs": [],
   "source": [
    "# export subgraph with pagerank and degree info added to view in neo4j\n",
    "vertices = deg_graph.vertices.join(pr_graph.vertices[['__id', 'pagerank']],'__id')\n",
    "edges = subg.edges\n"
   ]
  },
  {
   "cell_type": "code",
   "execution_count": 18,
   "metadata": {
    "collapsed": false
   },
   "outputs": [],
   "source": [
    "#vertices.export_csv(\"vertices.csv\")"
   ]
  },
  {
   "cell_type": "code",
   "execution_count": 19,
   "metadata": {
    "collapsed": true
   },
   "outputs": [],
   "source": [
    "#edges.export_csv(\"edges.csv\")"
   ]
  },
  {
   "cell_type": "markdown",
   "metadata": {
    "collapsed": true
   },
   "source": [
    "## Link to NB Viewer\n",
    "<a href=\"https://github.com/bsnacks000/IS620_Web_Analytics/blob/master/AssignmentWeek3/Assignment%20Week%203.ipynb\"> Assignment Week 3 Link </a>"
   ]
  },
  {
   "cell_type": "code",
   "execution_count": null,
   "metadata": {
    "collapsed": true
   },
   "outputs": [],
   "source": []
  },
  {
   "cell_type": "code",
   "execution_count": null,
   "metadata": {
    "collapsed": true
   },
   "outputs": [],
   "source": []
  }
 ],
 "metadata": {
  "kernelspec": {
   "display_name": "Python [graph_lab_env]",
   "language": "python",
   "name": "Python [graph_lab_env]"
  },
  "language_info": {
   "codemirror_mode": {
    "name": "ipython",
    "version": 2
   },
   "file_extension": ".py",
   "mimetype": "text/x-python",
   "name": "python",
   "nbconvert_exporter": "python",
   "pygments_lexer": "ipython2",
   "version": "2.7.12"
  }
 },
 "nbformat": 4,
 "nbformat_minor": 0
}
