{
 "cells": [
  {
   "cell_type": "markdown",
   "metadata": {},
   "source": [
    "## Centrality Measures for a Music Scene Network\n",
    "_Your task in this week’s assignment is to identify an interesting set of network data that is available on the web (either through web scraping or web APIs) that could be used for analyzing and comparing centrality measures across nodes._\n",
    "\n",
    "A music scene in a city can be represented as a social network graph with the level of connectedness between bands and musicians as an indicator of the scene's productivity. Nodes could be divided categorically into \"musicians\" and \"bands\" and the edges would indicate the relationship of which musicians play or have played in each band, as well as well as who plays with each other. Various measures of degree and eigenvector centrality could be used to predict who the most influential individual musicians and bands are in the scene.\n",
    "\n",
    "Since most active bands and musicians have a public Facebook band profile, the easiest way to collect this data on a large scale would be to make Facebook Graph API requests. Since the Facebook API can only be searched by node id (name), a script could handle sending individual requests for pre-determined band urls from a csv file and collecting the json responses. These json responses would simply contain the band name and its list of members. \n",
    "\n",
    "The Facebook API will return the band members field as an arbitrary string, so another program would then need to be written to parse that data and build an edge list table of musicians. Each row in the table would include a musician along with an outbound link to either another musician or a band. In this format, the data could be loaded into a graph database or Python package such as graphlab for vizualization and centrality analysis. \n",
    "\n",
    "\n",
    "\n"
   ]
  }
 ],
 "metadata": {
  "kernelspec": {
   "display_name": "Python [Root]",
   "language": "python",
   "name": "Python [Root]"
  },
  "language_info": {
   "codemirror_mode": {
    "name": "ipython",
    "version": 2
   },
   "file_extension": ".py",
   "mimetype": "text/x-python",
   "name": "python",
   "nbconvert_exporter": "python",
   "pygments_lexer": "ipython2",
   "version": "2.7.12"
  }
 },
 "nbformat": 4,
 "nbformat_minor": 0
}
