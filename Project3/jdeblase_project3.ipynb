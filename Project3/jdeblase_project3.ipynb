{
 "cells": [
  {
   "cell_type": "markdown",
   "metadata": {},
   "source": [
    "## Project 3 -- Name Gender Classifier\n",
    "\n",
    "Using any of the three classifiers described in chapter 6 of Natural Language Processing with Python, and any features you can think of, build the best name gender classifier you can. Begin by splitting the Names Corpus into three subsets: 500 words for the test set, 500 words for the dev-test set, and the remaining 6900 words for the training set. Then, starting with the example name gender classifier,\n",
    "make incremental improvements. Use the dev-test set to check your progress. Once you are satisfied with your classifier, check its final performance on the test set. How does the performance on the test set compare to the performance on the dev-test set? Is this what you'd expect?"
   ]
  },
  {
   "cell_type": "code",
   "execution_count": 1,
   "metadata": {
    "collapsed": true
   },
   "outputs": [],
   "source": [
    "import nltk\n",
    "import random\n",
    "import pandas as pd\n",
    "from nltk.corpus import names\n",
    "from gender import GenderClassifier\n"
   ]
  },
  {
   "cell_type": "markdown",
   "metadata": {},
   "source": [
    "### GenderClassifier Class\n",
    "For this project I decided to wrap the lower level nltk code into a class in order to avoid a redundent amount of scripting and easily test different feature functions on the test data.\n",
    "\n",
    "On instantiation with a names corpus, the <i> GenderClassifier </i>  class automatically splits the data and builds test and training sets. The public method train() is called with a custom feature function. Each time it is called it reshuffles and creates a development test set from the training data. The test data from instantiation remains untouched and seperate from the fine-tuning process.  \n",
    "\n",
    "Wrappers for informative features, error analysis and accuracy are then used to fine tune the feature function. This new function can then be passed in and the BayesClassifier retrained without affecting the initial test data.\n"
   ]
  },
  {
   "cell_type": "code",
   "execution_count": 2,
   "metadata": {
    "collapsed": false
   },
   "outputs": [],
   "source": [
    "# load names into GenderClassifier object\n",
    "gclass = GenderClassifier(names)"
   ]
  },
  {
   "cell_type": "code",
   "execution_count": 3,
   "metadata": {
    "collapsed": false
   },
   "outputs": [
    {
     "data": {
      "text/plain": [
       "[(u'Bettye', 'female'),\n",
       " (u'Flin', 'male'),\n",
       " (u'Emelia', 'female'),\n",
       " (u'Dyna', 'female'),\n",
       " (u'Nikkie', 'female')]"
      ]
     },
     "execution_count": 3,
     "metadata": {},
     "output_type": "execute_result"
    }
   ],
   "source": [
    "# show test and training name fields\n",
    "gclass.test_names[0:5]"
   ]
  },
  {
   "cell_type": "code",
   "execution_count": 4,
   "metadata": {
    "collapsed": false
   },
   "outputs": [
    {
     "data": {
      "text/plain": [
       "[(u'Lorene', 'female'),\n",
       " (u'Aziz', 'male'),\n",
       " (u'Electra', 'female'),\n",
       " (u'Albatros', 'male'),\n",
       " (u'Pyotr', 'male')]"
      ]
     },
     "execution_count": 4,
     "metadata": {},
     "output_type": "execute_result"
    }
   ],
   "source": [
    "gclass.train_names[0:5]"
   ]
  },
  {
   "cell_type": "markdown",
   "metadata": {},
   "source": [
    "We start with a basic feature function as outlined in Chapter 6 of Natural Language Processing in Python. This function computes the frequency of each letter and letter count for each name in the set. For each fine tuning round we will re-train the set 3 times to estimate accuracy. "
   ]
  },
  {
   "cell_type": "code",
   "execution_count": 5,
   "metadata": {
    "collapsed": true
   },
   "outputs": [],
   "source": [
    "def get_freq(name):\n",
    "    # helper func for frequencies\n",
    "    d = {'a':0,'b':0,'c':0,'d':0,'e':0,'f':0,'g':0,'h':0,'i':0,\n",
    "        'j':0,'k':0,'l':0,'m':0,'n':0,'o':0,'p':0,'q':0,'r':0,\n",
    "         's':0,'t':0,'u':0,'v':0,'w':0,'x':0,'y':0,'z':0, \" \":0,\n",
    "         \"'\":0,\"-\":0\n",
    "    }\n",
    "    name = name.lower().strip()\n",
    "    for n in name:\n",
    "        \n",
    "        d[n] += 1\n",
    "    return tuple(d.items())\n",
    "    \n",
    "\n",
    "def feature1(name):\n",
    "    return {\n",
    "        'freq': get_freq(name),\n",
    "        'length': len(name)\n",
    "    }\n"
   ]
  },
  {
   "cell_type": "code",
   "execution_count": 6,
   "metadata": {
    "collapsed": false
   },
   "outputs": [
    {
     "data": {
      "text/plain": [
       "0.594"
      ]
     },
     "execution_count": 6,
     "metadata": {},
     "output_type": "execute_result"
    }
   ],
   "source": [
    "gclass.train(feature1) # train\n",
    "gclass.report_dev_accuracy() "
   ]
  },
  {
   "cell_type": "code",
   "execution_count": 7,
   "metadata": {
    "collapsed": false
   },
   "outputs": [
    {
     "data": {
      "text/plain": [
       "0.624"
      ]
     },
     "execution_count": 7,
     "metadata": {},
     "output_type": "execute_result"
    }
   ],
   "source": [
    "gclass.train(feature1) # train\n",
    "gclass.report_dev_accuracy() "
   ]
  },
  {
   "cell_type": "code",
   "execution_count": 8,
   "metadata": {
    "collapsed": false
   },
   "outputs": [
    {
     "data": {
      "text/plain": [
       "0.606"
      ]
     },
     "execution_count": 8,
     "metadata": {},
     "output_type": "execute_result"
    }
   ],
   "source": [
    "gclass.train(feature1) # train\n",
    "gclass.report_dev_accuracy() # low performance"
   ]
  },
  {
   "cell_type": "markdown",
   "metadata": {},
   "source": [
    "Frequency and length alone produce a consistently low accuracy rate. We will therefore fine-tune by adding the last letter of the name to the feature function. This seems to be widely accepted as one of the all around defining features for gender classification. Names that end in vowels, especially \"a\" tend to be female, so by simply looking at the last letter, accuracy should improve a quite a bit."
   ]
  },
  {
   "cell_type": "code",
   "execution_count": 9,
   "metadata": {
    "collapsed": false
   },
   "outputs": [],
   "source": [
    "def feature2(name):\n",
    "    return {\n",
    "        'freq': get_freq(name),\n",
    "        'length': len(name),\n",
    "        'last': name[-1:].lower()\n",
    "    }"
   ]
  },
  {
   "cell_type": "code",
   "execution_count": 10,
   "metadata": {
    "collapsed": false
   },
   "outputs": [
    {
     "data": {
      "text/plain": [
       "0.73"
      ]
     },
     "execution_count": 10,
     "metadata": {},
     "output_type": "execute_result"
    }
   ],
   "source": [
    "gclass.train(feature2) # train\n",
    "gclass.report_dev_accuracy()"
   ]
  },
  {
   "cell_type": "code",
   "execution_count": 11,
   "metadata": {
    "collapsed": false
   },
   "outputs": [
    {
     "data": {
      "text/plain": [
       "0.744"
      ]
     },
     "execution_count": 11,
     "metadata": {},
     "output_type": "execute_result"
    }
   ],
   "source": [
    "gclass.train(feature2) # train\n",
    "gclass.report_dev_accuracy()"
   ]
  },
  {
   "cell_type": "code",
   "execution_count": 12,
   "metadata": {
    "collapsed": false
   },
   "outputs": [
    {
     "data": {
      "text/plain": [
       "0.73"
      ]
     },
     "execution_count": 12,
     "metadata": {},
     "output_type": "execute_result"
    }
   ],
   "source": [
    "gclass.train(feature2) # train\n",
    "gclass.report_dev_accuracy()"
   ]
  },
  {
   "cell_type": "markdown",
   "metadata": {
    "collapsed": false,
    "scrolled": true
   },
   "source": [
    "This improves the accuracy of the feature function on the training set by about ten points. In order to improve the function further we will look at a portion of the error analysis table to try to intuitively spot other characteristics."
   ]
  },
  {
   "cell_type": "code",
   "execution_count": 13,
   "metadata": {
    "collapsed": false
   },
   "outputs": [
    {
     "data": {
      "text/html": [
       "<div>\n",
       "<table border=\"1\" class=\"dataframe\">\n",
       "  <thead>\n",
       "    <tr style=\"text-align: right;\">\n",
       "      <th></th>\n",
       "      <th>correct</th>\n",
       "      <th>guess</th>\n",
       "      <th>names</th>\n",
       "    </tr>\n",
       "  </thead>\n",
       "  <tbody>\n",
       "    <tr>\n",
       "      <th>0</th>\n",
       "      <td>male</td>\n",
       "      <td>female</td>\n",
       "      <td>Sherlocke</td>\n",
       "    </tr>\n",
       "    <tr>\n",
       "      <th>1</th>\n",
       "      <td>male</td>\n",
       "      <td>female</td>\n",
       "      <td>Torrence</td>\n",
       "    </tr>\n",
       "    <tr>\n",
       "      <th>2</th>\n",
       "      <td>male</td>\n",
       "      <td>female</td>\n",
       "      <td>Pate</td>\n",
       "    </tr>\n",
       "    <tr>\n",
       "      <th>3</th>\n",
       "      <td>male</td>\n",
       "      <td>female</td>\n",
       "      <td>Emory</td>\n",
       "    </tr>\n",
       "    <tr>\n",
       "      <th>4</th>\n",
       "      <td>male</td>\n",
       "      <td>female</td>\n",
       "      <td>Riley</td>\n",
       "    </tr>\n",
       "    <tr>\n",
       "      <th>5</th>\n",
       "      <td>female</td>\n",
       "      <td>male</td>\n",
       "      <td>Revkah</td>\n",
       "    </tr>\n",
       "    <tr>\n",
       "      <th>6</th>\n",
       "      <td>male</td>\n",
       "      <td>female</td>\n",
       "      <td>Casey</td>\n",
       "    </tr>\n",
       "    <tr>\n",
       "      <th>7</th>\n",
       "      <td>female</td>\n",
       "      <td>male</td>\n",
       "      <td>Katharyn</td>\n",
       "    </tr>\n",
       "    <tr>\n",
       "      <th>8</th>\n",
       "      <td>male</td>\n",
       "      <td>female</td>\n",
       "      <td>Tony</td>\n",
       "    </tr>\n",
       "    <tr>\n",
       "      <th>9</th>\n",
       "      <td>male</td>\n",
       "      <td>female</td>\n",
       "      <td>Dannie</td>\n",
       "    </tr>\n",
       "    <tr>\n",
       "      <th>10</th>\n",
       "      <td>female</td>\n",
       "      <td>male</td>\n",
       "      <td>Melicent</td>\n",
       "    </tr>\n",
       "    <tr>\n",
       "      <th>11</th>\n",
       "      <td>female</td>\n",
       "      <td>male</td>\n",
       "      <td>Kris</td>\n",
       "    </tr>\n",
       "    <tr>\n",
       "      <th>12</th>\n",
       "      <td>female</td>\n",
       "      <td>male</td>\n",
       "      <td>Lind</td>\n",
       "    </tr>\n",
       "    <tr>\n",
       "      <th>13</th>\n",
       "      <td>male</td>\n",
       "      <td>female</td>\n",
       "      <td>Tannie</td>\n",
       "    </tr>\n",
       "    <tr>\n",
       "      <th>14</th>\n",
       "      <td>female</td>\n",
       "      <td>male</td>\n",
       "      <td>Erin</td>\n",
       "    </tr>\n",
       "  </tbody>\n",
       "</table>\n",
       "</div>"
      ],
      "text/plain": [
       "   correct   guess      names\n",
       "0     male  female  Sherlocke\n",
       "1     male  female   Torrence\n",
       "2     male  female       Pate\n",
       "3     male  female      Emory\n",
       "4     male  female      Riley\n",
       "5   female    male     Revkah\n",
       "6     male  female      Casey\n",
       "7   female    male   Katharyn\n",
       "8     male  female       Tony\n",
       "9     male  female     Dannie\n",
       "10  female    male   Melicent\n",
       "11  female    male       Kris\n",
       "12  female    male       Lind\n",
       "13    male  female     Tannie\n",
       "14  female    male       Erin"
      ]
     },
     "execution_count": 13,
     "metadata": {},
     "output_type": "execute_result"
    }
   ],
   "source": [
    "gclass.error_analysis_table()[:15]"
   ]
  },
  {
   "cell_type": "markdown",
   "metadata": {},
   "source": [
    "The table shows that ngrams of last letters might have a more important role than the single last letter. The next function will look at both the last two and last three letters of the name. \n",
    "\n",
    "We can also look at pairs of letters throughout the entire word which might also help to improve the classifier."
   ]
  },
  {
   "cell_type": "code",
   "execution_count": 14,
   "metadata": {
    "collapsed": false
   },
   "outputs": [],
   "source": [
    "def group_pairs(name):\n",
    "    pairs = []\n",
    "    for i in range(len(name)-1):\n",
    "        pairs.append(name[i] + name[i+1])\n",
    "    return tuple(set(pairs))  # need to cast set into a tuple for nltk"
   ]
  },
  {
   "cell_type": "code",
   "execution_count": 15,
   "metadata": {
    "collapsed": false
   },
   "outputs": [],
   "source": [
    "# add pairs\n",
    "# add last2 and last3 \n",
    "\n",
    "def feature3(name):\n",
    "    return {\n",
    "        'pairs': group_pairs(name),\n",
    "        'last': name[-1:].lower(),\n",
    "        'last2': name[-2:].lower(),\n",
    "        'last3': name[-3:].lower(),\n",
    "    }"
   ]
  },
  {
   "cell_type": "code",
   "execution_count": 16,
   "metadata": {
    "collapsed": false
   },
   "outputs": [
    {
     "data": {
      "text/plain": [
       "0.802"
      ]
     },
     "execution_count": 16,
     "metadata": {},
     "output_type": "execute_result"
    }
   ],
   "source": [
    "gclass.train(feature3)\n",
    "gclass.report_dev_accuracy()"
   ]
  },
  {
   "cell_type": "code",
   "execution_count": 17,
   "metadata": {
    "collapsed": false
   },
   "outputs": [
    {
     "data": {
      "text/plain": [
       "0.762"
      ]
     },
     "execution_count": 17,
     "metadata": {},
     "output_type": "execute_result"
    }
   ],
   "source": [
    "gclass.train(feature3)\n",
    "gclass.report_dev_accuracy()"
   ]
  },
  {
   "cell_type": "code",
   "execution_count": 18,
   "metadata": {
    "collapsed": false
   },
   "outputs": [
    {
     "data": {
      "text/plain": [
       "0.756"
      ]
     },
     "execution_count": 18,
     "metadata": {},
     "output_type": "execute_result"
    }
   ],
   "source": [
    "gclass.train(feature3)\n",
    "gclass.report_dev_accuracy()"
   ]
  },
  {
   "cell_type": "code",
   "execution_count": 19,
   "metadata": {
    "collapsed": false
   },
   "outputs": [
    {
     "name": "stdout",
     "output_type": "stream",
     "text": [
      "Most Informative Features\n",
      "                   last2 = u'na'          female : male   =     74.9 : 1.0\n",
      "                    last = u'a'           female : male   =     41.7 : 1.0\n",
      "                    last = u'k'             male : female =     24.4 : 1.0\n",
      "                   last2 = u'ra'          female : male   =     21.9 : 1.0\n",
      "                   last2 = u'us'            male : female =     21.6 : 1.0\n",
      "                   last2 = u'ia'          female : male   =     20.8 : 1.0\n",
      "                    last = u'f'             male : female =     14.3 : 1.0\n",
      "                    last = u'g'             male : female =     14.3 : 1.0\n",
      "                   last2 = u'do'            male : female =     13.8 : 1.0\n",
      "                   last3 = u'nne'         female : male   =     13.4 : 1.0\n"
     ]
    }
   ],
   "source": [
    "gclass.informative_features()"
   ]
  },
  {
   "cell_type": "markdown",
   "metadata": {
    "collapsed": true
   },
   "source": [
    "These three runs scored several points higher then the set of feature2() runs. We can see from the informative features list that last, last2 and last3, played the most crucial role. However the combination of these with the freq, pairs, and count features seem to help boost the overall accuracy.\n",
    "\n",
    "Finally we test this fine-tuned version against the unseen test data. This was stored in the class upon initialization and not a part of the training or dev_test sets."
   ]
  },
  {
   "cell_type": "code",
   "execution_count": 20,
   "metadata": {
    "collapsed": false
   },
   "outputs": [
    {
     "data": {
      "text/plain": [
       "0.6"
      ]
     },
     "execution_count": 20,
     "metadata": {},
     "output_type": "execute_result"
    }
   ],
   "source": [
    "gclass.report_test_accuracy()"
   ]
  },
  {
   "cell_type": "markdown",
   "metadata": {
    "collapsed": true
   },
   "source": [
    "We see that the algorithm does not perform as well on unseen data, with an accuracy rate of only 60%. This lower accuracy is expected because the training data has been fine tuned to the training and dev test sets. However it is almost 20 points lower then our best run with the feature3 set, so there is a good chance we have overfit the data. \n",
    "\n",
    "I will produce one more feature function this time removing frequency and count which played a negligible role in the original set.\n",
    "\n",
    "Since the test data has already been used from the first class, I will make a new GenderClassifier object. This will make a completely new test set. If the dev test accuracy is above 0.75 I will immediately use the test set.\n"
   ]
  },
  {
   "cell_type": "code",
   "execution_count": 33,
   "metadata": {
    "collapsed": false
   },
   "outputs": [],
   "source": [
    "def feature4(name):\n",
    "    return {\n",
    "        'pairs': group_pairs(name),\n",
    "        'last': name[-1:].lower(),\n",
    "        'last2': name[-2:].lower(),\n",
    "        'last3': name[-3:].lower(),\n",
    "    }"
   ]
  },
  {
   "cell_type": "code",
   "execution_count": 34,
   "metadata": {
    "collapsed": false
   },
   "outputs": [],
   "source": [
    "# make new class and train on the new feature function\n",
    "gclass2 = GenderClassifier(names)\n",
    "gclass2.train(feature4)"
   ]
  },
  {
   "cell_type": "code",
   "execution_count": 35,
   "metadata": {
    "collapsed": false
   },
   "outputs": [
    {
     "data": {
      "text/plain": [
       "0.788"
      ]
     },
     "execution_count": 35,
     "metadata": {},
     "output_type": "execute_result"
    }
   ],
   "source": [
    "gclass2.report_dev_accuracy()"
   ]
  },
  {
   "cell_type": "code",
   "execution_count": 36,
   "metadata": {
    "collapsed": false
   },
   "outputs": [
    {
     "data": {
      "text/plain": [
       "0.814"
      ]
     },
     "execution_count": 36,
     "metadata": {},
     "output_type": "execute_result"
    }
   ],
   "source": [
    "gclass2.report_test_accuracy()"
   ]
  },
  {
   "cell_type": "markdown",
   "metadata": {},
   "source": [
    "Removing those two components vastly improved the performance of the classifier. We now have an accuracy score on unseen data of over 81%.\n",
    "\n",
    "We will try one more feature test to see if accuracy can be pushed further. A new function that calculates 3-grams will be included."
   ]
  },
  {
   "cell_type": "code",
   "execution_count": 49,
   "metadata": {
    "collapsed": false
   },
   "outputs": [],
   "source": [
    "def group_threes(name):\n",
    "    pairs = []\n",
    "    for i in range(len(name)-2):\n",
    "        pairs.append(name[i] + name[i+1] + name[i+2])\n",
    "    return tuple(set(pairs))  # need to cast set into a tuple for nltk\n",
    "\n",
    "\n",
    "def feature5(name):\n",
    "    return {\n",
    "        'pairs': group_pairs(name),\n",
    "        'threes': group_threes(name),\n",
    "        'last': name[-1:].lower(),\n",
    "        'last2': name[-2:].lower(),\n",
    "        'last3': name[-3:].lower(),\n",
    "    }\n"
   ]
  },
  {
   "cell_type": "code",
   "execution_count": 46,
   "metadata": {
    "collapsed": true
   },
   "outputs": [],
   "source": [
    "gclass3 = GenderClassifier(names)\n",
    "gclass3.train(feature5)"
   ]
  },
  {
   "cell_type": "code",
   "execution_count": 47,
   "metadata": {
    "collapsed": false
   },
   "outputs": [
    {
     "data": {
      "text/plain": [
       "0.744"
      ]
     },
     "execution_count": 47,
     "metadata": {},
     "output_type": "execute_result"
    }
   ],
   "source": [
    "gclass3.report_dev_accuracy()"
   ]
  },
  {
   "cell_type": "code",
   "execution_count": 48,
   "metadata": {
    "collapsed": false
   },
   "outputs": [
    {
     "data": {
      "text/plain": [
       "0.748"
      ]
     },
     "execution_count": 48,
     "metadata": {},
     "output_type": "execute_result"
    }
   ],
   "source": [
    "gclass3.report_test_accuracy()"
   ]
  },
  {
   "cell_type": "markdown",
   "metadata": {},
   "source": [
    "With the added three-grams, the test data accuracy seems to have decreased. We will therefore select feature4() as our best classifier set."
   ]
  },
  {
   "cell_type": "code",
   "execution_count": null,
   "metadata": {
    "collapsed": true
   },
   "outputs": [],
   "source": []
  }
 ],
 "metadata": {
  "kernelspec": {
   "display_name": "Python [graph_lab_env]",
   "language": "python",
   "name": "Python [graph_lab_env]"
  },
  "language_info": {
   "codemirror_mode": {
    "name": "ipython",
    "version": 2
   },
   "file_extension": ".py",
   "mimetype": "text/x-python",
   "name": "python",
   "nbconvert_exporter": "python",
   "pygments_lexer": "ipython2",
   "version": "2.7.12"
  }
 },
 "nbformat": 4,
 "nbformat_minor": 0
}
